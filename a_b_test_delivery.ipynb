{
 "cells": [
  {
   "cell_type": "markdown",
   "id": "02808a18",
   "metadata": {},
   "source": [
    "### Ниже - учебный кейс по проведению A/B-теста в рамках курса Аналитик Данных, Karpov Courses.\n",
    "\n",
    "Текст заданий и их порядок сформулированы на курсе. По этой причине логика повествования иногда скачет, т.к. необходимо соблюдать порядок выполнения заданий."
   ]
  },
  {
   "cell_type": "markdown",
   "id": "2a58dd0c",
   "metadata": {},
   "source": [
    "Представьте, что вы работаете аналитиком в очень крупной компании по доставке пиццы над приложением для курьеров (да, обычно в таких компаниях есть приложение для курьеров и отдельно приложение для потребителей).\n",
    "\n",
    "У вас есть несколько ресторанов в разных частях города и целый штат курьеров. Но есть одна проблема — к вечеру скорость доставки падает из-за того, что курьеры уходят домой после рабочего дня, а количество заказов лишь растет. Это приводит к тому, что в момент пересмены наша доставка очень сильно проседает в эффективности. \n",
    "\n",
    "Наши data scientist-ы придумали новый алгоритм, который позволяет курьерам запланировать свои последние заказы перед окончанием рабочего дня так, чтобы их маршрут доставки совпадал с маршрутом до дома. То есть, чтобы курьеры доставляли последние свои заказы за день как бы \"по пути\" домой. \n",
    "\n",
    "Вы вместе с командой решили раскатить A/B тест на две равные группы курьеров. Часть курьеров использует старый алгоритм без опции \"по пути\", другие видят в своем приложении эту опцию и могут ее выбрать. Ваша задача – проанализировать данные эксперимента и помочь бизнесу принять решение о раскатке новой фичи на всех курьеров."
   ]
  },
  {
   "cell_type": "code",
   "execution_count": 60,
   "id": "81aaba8d",
   "metadata": {},
   "outputs": [],
   "source": [
    "# Импорт библиотек и ввод настроек\n",
    "import pandas as pd\n",
    "import numpy as np\n",
    "import scipy\n",
    "import requests\n",
    "from urllib.parse import urlencode\n",
    "import warnings\n",
    "warnings.filterwarnings('ignore')\n",
    "import seaborn as sns\n",
    "import matplotlib.pyplot as plt\n",
    "%matplotlib inline\n",
    "sns.set(font_scale = 1.5, style = 'whitegrid', rc = {'figure.figsize' : (20,8)})"
   ]
  },
  {
   "cell_type": "code",
   "execution_count": 3,
   "id": "99ef475c",
   "metadata": {},
   "outputs": [
    {
     "name": "stdout",
     "output_type": "stream",
     "text": [
      "(20196, 4)\n"
     ]
    },
    {
     "data": {
      "text/html": [
       "<div>\n",
       "<style scoped>\n",
       "    .dataframe tbody tr th:only-of-type {\n",
       "        vertical-align: middle;\n",
       "    }\n",
       "\n",
       "    .dataframe tbody tr th {\n",
       "        vertical-align: top;\n",
       "    }\n",
       "\n",
       "    .dataframe thead th {\n",
       "        text-align: right;\n",
       "    }\n",
       "</style>\n",
       "<table border=\"1\" class=\"dataframe\">\n",
       "  <thead>\n",
       "    <tr style=\"text-align: right;\">\n",
       "      <th></th>\n",
       "      <th>order_id</th>\n",
       "      <th>delivery_time</th>\n",
       "      <th>district</th>\n",
       "      <th>experiment_group</th>\n",
       "    </tr>\n",
       "  </thead>\n",
       "  <tbody>\n",
       "    <tr>\n",
       "      <th>0</th>\n",
       "      <td>3159</td>\n",
       "      <td>44.0</td>\n",
       "      <td>Purlieus</td>\n",
       "      <td>control</td>\n",
       "    </tr>\n",
       "    <tr>\n",
       "      <th>1</th>\n",
       "      <td>10426</td>\n",
       "      <td>51.0</td>\n",
       "      <td>Purlieus</td>\n",
       "      <td>control</td>\n",
       "    </tr>\n",
       "  </tbody>\n",
       "</table>\n",
       "</div>"
      ],
      "text/plain": [
       "   order_id  delivery_time  district experiment_group\n",
       "0      3159           44.0  Purlieus          control\n",
       "1     10426           51.0  Purlieus          control"
      ]
     },
     "execution_count": 3,
     "metadata": {},
     "output_type": "execute_result"
    }
   ],
   "source": [
    "# Загрузка данных\n",
    "\n",
    "base_url = 'https://cloud-api.yandex.net/v1/disk/public/resources/download?'\n",
    "public_key = 'https://disk.yandex.ru/d/IRS2XlvJAteTmA' \n",
    "final_url = base_url + urlencode(dict(public_key=public_key))\n",
    "response = requests.get(final_url)\n",
    "download_url = response.json()['href']\n",
    "download_response = requests.get(download_url)\n",
    "orders = pd.read_csv(download_url)\n",
    "\n",
    "print(orders.shape)\n",
    "orders.head(2)"
   ]
  },
  {
   "cell_type": "markdown",
   "id": "3764b8b8",
   "metadata": {},
   "source": [
    "Ознакомимся с данными. Посмотрим типы данных, наличие пропущенных значений.\n",
    "\n",
    "Колонки нашего датафрейма:\n",
    "- order_id - id заказа\n",
    "- delivery_time - время доставки в минутах\n",
    "- district - район доставки\n",
    "- experiment_group - экспериментальная группа"
   ]
  },
  {
   "cell_type": "code",
   "execution_count": 4,
   "id": "8b7a508f",
   "metadata": {},
   "outputs": [
    {
     "data": {
      "text/plain": [
       "order_id            0\n",
       "delivery_time       0\n",
       "district            0\n",
       "experiment_group    0\n",
       "dtype: int64"
      ]
     },
     "execution_count": 4,
     "metadata": {},
     "output_type": "execute_result"
    }
   ],
   "source": [
    "orders.isna().sum()"
   ]
  },
  {
   "cell_type": "code",
   "execution_count": 5,
   "id": "eb0e4ab5",
   "metadata": {},
   "outputs": [
    {
     "data": {
      "text/plain": [
       "order_id              int64\n",
       "delivery_time       float64\n",
       "district             object\n",
       "experiment_group     object\n",
       "dtype: object"
      ]
     },
     "execution_count": 5,
     "metadata": {},
     "output_type": "execute_result"
    }
   ],
   "source": [
    "orders.dtypes"
   ]
  },
  {
   "cell_type": "code",
   "execution_count": 6,
   "id": "b914adff",
   "metadata": {},
   "outputs": [
    {
     "data": {
      "text/plain": [
       "order_id            20196\n",
       "delivery_time          72\n",
       "district                3\n",
       "experiment_group        2\n",
       "dtype: int64"
      ]
     },
     "execution_count": 6,
     "metadata": {},
     "output_type": "execute_result"
    }
   ],
   "source": [
    "orders.nunique()"
   ]
  },
  {
   "cell_type": "code",
   "execution_count": 8,
   "id": "b73fa0e0",
   "metadata": {},
   "outputs": [
    {
     "data": {
      "text/plain": [
       "test       10104\n",
       "control    10092\n",
       "Name: experiment_group, dtype: int64"
      ]
     },
     "execution_count": 8,
     "metadata": {},
     "output_type": "execute_result"
    }
   ],
   "source": [
    "orders.experiment_group.value_counts()"
   ]
  },
  {
   "cell_type": "markdown",
   "id": "d6440927",
   "metadata": {},
   "source": [
    "Задание 1.\n",
    "\n",
    "Сформулируем гипотезы. \n",
    "\n",
    "- Нулевая гипотеза (H0): Разницы между средним временем доставки в тестовой и контрольной группе нет.\n",
    "- Альтернативная гипотеза (H1): Разница между средним временем доставки в тестовой и контрольной группе есть"
   ]
  },
  {
   "cell_type": "markdown",
   "id": "b57ab8c1",
   "metadata": {},
   "source": [
    "Задание 2. \n",
    "\n",
    "Начнем работу с данными в группах. Для начала, визуализируем распределение времени доставки в тестовой группе и контрольной группе. Учтем в распределении район, в который осуществляется доставка."
   ]
  },
  {
   "cell_type": "code",
   "execution_count": 22,
   "id": "d651e52f",
   "metadata": {},
   "outputs": [],
   "source": [
    "test_group = orders.query('experiment_group == \"test\"')\n",
    "control_group = orders.query('experiment_group == \"control\"')"
   ]
  },
  {
   "cell_type": "code",
   "execution_count": 47,
   "id": "abdc5c10",
   "metadata": {},
   "outputs": [
    {
     "data": {
      "image/png": "[encoded data removed]",
      "text/plain": [
       "<Figure size 1440x576 with 2 Axes>"
      ]
     },
     "metadata": {},
     "output_type": "display_data"
    }
   ],
   "source": [
    "fig, axes = plt.subplots(1,2,figsize = (20, 8))\n",
    "\n",
    "test_group.groupby('district').delivery_time.hist(ax = axes[0], legend = True)\n",
    "control_group.groupby('district').delivery_time.hist(ax = axes[1], legend = True)\n",
    "fig.suptitle('Distribution of delivery time by test and control groups', fontsize = 30)\n",
    "axes[0].set_title('Test group', fontsize = 20)\n",
    "axes[0].set_xlabel('delivery time', fontsize = 15)\n",
    "axes[0].set_ylabel('number of orders', fontsize = 15)\n",
    "axes[1].set_title('Control group', fontsize = 20)\n",
    "axes[1].set_xlabel('delivery time', fontsize = 15)\n",
    "axes[1].set_ylabel('number of orders', fontsize = 15)\n",
    "sns.despine()"
   ]
  },
  {
   "cell_type": "markdown",
   "id": "92bfd61d",
   "metadata": {},
   "source": [
    "По данным распределениям преждевременно делать конкретные выводы, но некоторые наблюдения уже можно сделать. \n",
    "\n",
    "- В обоих случаях мы видим характер распределения, имеющий признаки нормального распределения.\n",
    "- Мы видим схожие порядки у наших колличественных значений. При этом уже есть признаки отличий в значениях.\n",
    "- В тестовой группе мы наблюдаем признаки перераспределения доставок по районам Central и Suburb.\n",
    "\n",
    "Зафиксируем некоторые колличественные параметры."
   ]
  },
  {
   "cell_type": "code",
   "execution_count": 96,
   "id": "3a179d0e",
   "metadata": {},
   "outputs": [
    {
     "data": {
      "text/plain": [
       "39.04681314330958"
      ]
     },
     "execution_count": 96,
     "metadata": {},
     "output_type": "execute_result"
    }
   ],
   "source": [
    "test_mean_time = test_group.delivery_time.mean()\n",
    "test_mean_time"
   ]
  },
  {
   "cell_type": "code",
   "execution_count": 97,
   "id": "4b523537",
   "metadata": {},
   "outputs": [
    {
     "data": {
      "text/plain": [
       "39.0"
      ]
     },
     "execution_count": 97,
     "metadata": {},
     "output_type": "execute_result"
    }
   ],
   "source": [
    "test_median_time = test_group.delivery_time.median()\n",
    "test_median_time"
   ]
  },
  {
   "cell_type": "code",
   "execution_count": 98,
   "id": "45eb9b7f",
   "metadata": {},
   "outputs": [
    {
     "data": {
      "text/plain": [
       "45.065101070154576"
      ]
     },
     "execution_count": 98,
     "metadata": {},
     "output_type": "execute_result"
    }
   ],
   "source": [
    "control_mean_time = control_group.delivery_time.mean()\n",
    "control_mean_time"
   ]
  },
  {
   "cell_type": "code",
   "execution_count": 99,
   "id": "d653f74c",
   "metadata": {},
   "outputs": [
    {
     "data": {
      "text/plain": [
       "45.0"
      ]
     },
     "execution_count": 99,
     "metadata": {},
     "output_type": "execute_result"
    }
   ],
   "source": [
    "control_median_time = control_group.delivery_time.median()\n",
    "control_median_time"
   ]
  },
  {
   "cell_type": "markdown",
   "id": "4b895e71",
   "metadata": {},
   "source": [
    "Помимо визуального распределения, мы можем видеть близость значений среднего времени доставки и медианного времени доставки внутри каждой группы. Это позволит нам не беспокоиться о выборе меры центральной тенденции в наших расчетах и спокойно использовать среднее значение.\n",
    "\n",
    "Также нельзя не заметить отличие значений тестовой и контрольной группы. Позднее мы к этому вернемся."
   ]
  },
  {
   "cell_type": "markdown",
   "id": "806f7431",
   "metadata": {},
   "source": [
    "Задание 3.\n",
    "\n",
    "Посчитайте количество наблюдений в тестовой и контрольной группе. На сколько по модулю отличается количество наблюдений в тесте и контроле?"
   ]
  },
  {
   "cell_type": "code",
   "execution_count": 100,
   "id": "c3b7aa93",
   "metadata": {},
   "outputs": [
    {
     "name": "stdout",
     "output_type": "stream",
     "text": [
      "12\n"
     ]
    }
   ],
   "source": [
    "print(test_group.shape[0] - control_group.shape[0])"
   ]
  },
  {
   "cell_type": "markdown",
   "id": "68df7a96",
   "metadata": {},
   "source": [
    "Задание 4.\n",
    "\n",
    "Изучим наши распределения. Проверим выполнение условий на нормальность и посчитаем стандартное отклонение в группах.\n",
    "\n",
    "Получим p-value для следующего утверждения \"Данная выборка распределения времени доставки является частью нормального распределения\". Для того, чтобы проверить нормальность распределения, я использую тест Агостино-Пирсона по функции scipy.stats.normaltest()."
   ]
  },
  {
   "cell_type": "code",
   "execution_count": 101,
   "id": "054ae5d5",
   "metadata": {},
   "outputs": [
    {
     "name": "stdout",
     "output_type": "stream",
     "text": [
      "P-value для тестовой группы - 0.02983\n",
      "Стандартное отклонение времени доставки тестовой группы - 9.88\n"
     ]
    }
   ],
   "source": [
    "print('P-value для тестовой группы -',\n",
    "    round(scipy.stats.normaltest(test_group.delivery_time)[1],5))\n",
    "test_sd = test_group.delivery_time.std()\n",
    "print('Стандартное отклонение времени доставки тестовой группы -', round(test_sd,2))"
   ]
  },
  {
   "cell_type": "code",
   "execution_count": 102,
   "id": "75928143",
   "metadata": {},
   "outputs": [
    {
     "name": "stdout",
     "output_type": "stream",
     "text": [
      "P-value для контрольной группы - 0.88095\n",
      "Стандартное отклонение времени доставки тестовой группы - 9.99\n"
     ]
    }
   ],
   "source": [
    "print('P-value для контрольной группы -',\n",
    "    round(scipy.stats.normaltest(control_group.delivery_time)[1],5))\n",
    "control_sd = control_group.delivery_time.std()\n",
    "print('Стандартное отклонение времени доставки тестовой группы -', round(control_sd,2))"
   ]
  },
  {
   "cell_type": "markdown",
   "id": "5f7d666c",
   "metadata": {},
   "source": [
    "Задание 4. \n",
    "\n",
    "Сравнить средние значения в тестовой группе и в контрольной группе."
   ]
  },
  {
   "cell_type": "markdown",
   "id": "d0eba7a7",
   "metadata": {},
   "source": [
    "Мы видим, что вероятность для распределения тестовой группы быть извлеченной из нормального распределения крайне мала. Однако, принимая во внимание довольно близкие параметры изменчивости распределений, их унимодальность, симметричность, а главное - большое количество заказов в наших выборках - позволим себе применить критерий Стьюдента для сравнения средних значений в наших группах."
   ]
  },
  {
   "cell_type": "code",
   "execution_count": 103,
   "id": "e7996225",
   "metadata": {},
   "outputs": [
    {
     "data": {
      "text/plain": [
       "Ttest_indResult(statistic=43.03582663183714, pvalue=0.0)"
      ]
     },
     "execution_count": 103,
     "metadata": {},
     "output_type": "execute_result"
    }
   ],
   "source": [
    "scipy.stats.ttest_ind(control_group.delivery_time, test_group.delivery_time)"
   ]
  },
  {
   "cell_type": "markdown",
   "id": "851cc894",
   "metadata": {},
   "source": [
    "Критерий Стьюдента говорит нам о том, что вероятность получить такое или еще более ярковыраженное отличие между средними значениями контрольной и тестовой группе, при условии что они принадлежат одной генеральной совокупности, стремится к нулю. Следовательно, мы можем отвергнуть нулевую гипотезу о равенстве средних и сказать что отличие между средними значениями существует, и оно статистически значимо."
   ]
  },
  {
   "cell_type": "markdown",
   "id": "591f18d5",
   "metadata": {},
   "source": [
    "Задание 5.\n",
    "\n",
    "На сколько процентов изменилось среднее время доставки в тестовой группе по сравнению с контрольной (округлите до сотых)? "
   ]
  },
  {
   "cell_type": "code",
   "execution_count": 107,
   "id": "d933f6c4",
   "metadata": {},
   "outputs": [
    {
     "name": "stdout",
     "output_type": "stream",
     "text": [
      "Среднее время доставки заказов в тестовой группе изменилось на  -13.35 %\n"
     ]
    }
   ],
   "source": [
    "print('Среднее время доставки заказов в тестовой группе изменилось на ',\n",
    "      round(100*(test_mean_time - control_mean_time)/ control_mean_time,2), '%')"
   ]
  },
  {
   "cell_type": "markdown",
   "id": "d1265959",
   "metadata": {},
   "source": [
    "Итого, можем сделать вывод о том, что новый алгоритм положительно влияет на скорость доставки, и функцию доставки заказов \"по пути домой\" стоит распространить на всех наших сотрудников."
   ]
  }
 ],
 "metadata": {
  "kernelspec": {
   "display_name": "Python 3 (ipykernel)",
   "language": "python",
   "name": "python3"
  },
  "language_info": {
   "codemirror_mode": {
    "name": "ipython",
    "version": 3
   },
   "file_extension": ".py",
   "mimetype": "text/x-python",
   "name": "python",
   "nbconvert_exporter": "python",
   "pygments_lexer": "ipython3",
   "version": "3.9.12"
  }
 },
 "nbformat": 4,
 "nbformat_minor": 5
}
